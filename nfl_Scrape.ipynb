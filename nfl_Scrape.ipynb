{
 "cells": [
  {
   "cell_type": "code",
   "execution_count": 1,
   "metadata": {},
   "outputs": [],
   "source": [
    "import os\n",
    "import json\n",
    "import praw\n",
    "import numpy as np\n",
    "import pandas as pd\n",
    "\n",
    "from datetime import datetime"
   ]
  },
  {
   "cell_type": "code",
   "execution_count": 2,
   "metadata": {},
   "outputs": [],
   "source": [
    "PATH = os.path.dirname(os.path.dirname(os.getcwd()))"
   ]
  },
  {
   "cell_type": "code",
   "execution_count": 3,
   "metadata": {},
   "outputs": [],
   "source": [
    "f = open(PATH + '/.reddit/creds.json')\n",
    "cred = json.load(f)"
   ]
  },
  {
   "cell_type": "code",
   "execution_count": 4,
   "metadata": {},
   "outputs": [],
   "source": [
    "reddit = praw.Reddit(client_id=cred['id'],\n",
    "                     client_secret=cred['secret'],\n",
    "                     user_agent=cred['agent'])"
   ]
  },
  {
   "cell_type": "code",
   "execution_count": 5,
   "metadata": {},
   "outputs": [
    {
     "name": "stdout",
     "output_type": "stream",
     "text": [
      "True\n"
     ]
    }
   ],
   "source": [
    "print(reddit.read_only)"
   ]
  },
  {
   "cell_type": "code",
   "execution_count": 7,
   "metadata": {
    "scrolled": true
   },
   "outputs": [
    {
     "name": "stdout",
     "output_type": "stream",
     "text": [
      "2020 NFL Draft Day 3 Post-draft Discussion\n",
      "Round 7 - Pick 41: Tae Crowder, ILB, Georgia (New York Giants)\n",
      "Round 7 - Pick 40: Derrek Tuszka, DE, North Dakota State (Denver Broncos)\n",
      "Round 7 - Pick 39: Kyle Hinton, C, Washburn (Minnesota Vikings)\n",
      "Round 7 - Pick 38: Tyrie Cleveland, WR, Florida (Denver Broncos)\n",
      "Round 7 - Pick 37: Stephen Sullivan, TE, LSU (Seattle Seahawks)\n",
      "Round 7 - Pick 36: Tremayne Anchrum, OG, Clemson (Los Angeles Rams)\n",
      "Round 7 - Pick 35: Brian Cole II, OLB, Mississippi State (Minnesota Vikings)\n",
      "Round 7 - Pick 34: Sam Sloman, K, Miami (OH) (Los Angeles Rams)\n",
      "Round 7 - Pick 33: Chris Williamson, CB, Minnesota (New York Giants)\n",
      "Round 7 - Pick 32: Malcolm Perry, RB, Navy (Miami Dolphins)\n",
      "Round 7 - Pick 31: Raymond Calais, RB, Louisiana (Tampa Bay Buccaneers)\n",
      "Round 7 - Pick 30: Nate Stanley, QB, Iowa (Minnesota Vikings)\n",
      "Round 7 - Pick 29: Chris Jackson, CB, Marshall (Tennessee Titans)\n",
      "Round 7 - Pick 28: Jonathan Garvin, DE, Miami (FL) (Green Bay Packers)\n",
      "Round 7 - Pick 27: Chapelle Russell, OLB, Temple (Tampa Bay Buccaneers)\n",
      "Round 7 - Pick 27: Chapelle Russell, OLB, Temple (Tampa Bay Buccaneers)\n",
      "Round 7 - Pick 26: Tommy Stevens, QB, Mississippi State (New Orleans Saints)\n",
      "Round 7 - Pick 25: Dane Jackson, CB, Pittsburgh (Buffalo Bills)\n",
      "Round 7 - Pick 24: T.J. Brunson, OLB, South Carolina (New York Giants)\n",
      "Round 7 - Pick 23: Thakarius Keyes, CB, Tulane (Kansas City Chiefs)\n",
      "Round 7 - Pick 22: Vernon Scott, FS, Texas Christian (Green Bay Packers)\n",
      "Round 7 - Pick 21: Jashon Cornell, DT, Ohio State (Detroit Lions)\n",
      "Round 7 - Pick 20: Clay Johnston, ILB, Baylor (Los Angeles Rams)\n",
      "Round 7 - Pick 19: Casey Toohill, OLB, Stanford (Philadelphia Eagles)\n",
      "Round 7 - Pick 18: Carlos Davis, DT, Nebraska (Pittsburgh Steelers)\n",
      "Round 7 - Pick 17: Ben DiNucci, QB, James Madison (Dallas Cowboys)\n",
      "Round 7 - Pick 16: Dustin Woodard, C, Memphis (New England Patriots)\n",
      "Round 7 - Pick 15: James Smith-Williams, DE, North Carolina State (Washington Redskins)\n",
      "Round 7 - Pick 14: Sterling Hofrichter, K, Syracuse (Atlanta Falcons)\n",
      "Round 7 - Pick 13: Lachavious Simmons, OT, Tennessee State (Chicago Bears)\n",
      "Round 7 - Pick 12: Arlington Hambright, OG, Colorado (Chicago Bears)\n",
      "Round 7 - Pick 11: Kenny Willekes, DE, Michigan State (Minnesota Vikings)\n",
      "Round 7 - Pick 10: Cole McDonald, QB, Hawaii (Tennessee Titans)\n",
      "Round 7 - Pick 9: Chris Claybrooks, CB, Memphis (Jacksonville Jaguars)\n",
      "Round 7 - Pick 8: Eno Benjamin, RB, Arizona State (Arizona Cardinals)\n",
      "Round 7 - Pick 7: Stantley Thomas-Oliver III, CB, Florida International (Carolina Panthers)\n",
      "Round 7 - Pick 6: K.J. Hill, WR, Ohio State (Los Angeles Chargers)\n",
      "Round 7 - Pick 5: Geno Stone, SS, Iowa (Baltimore Ravens)\n",
      "Round 7 - Pick 4: Carter Coughlin, OLB, Minnesota (New York Giants)\n",
      "Round 7 - Pick 3: Jauan Jennings, WR, Tennessee (San Francisco 49ers)\n",
      "Round 7 - Pick 2: Kamren Curl, SS, Arkansas (Washington Redskins)\n",
      "Round 7 - Pick 1: Markus Bailey, ILB, Purdue (Cincinnati Bengals)\n",
      "Round 6 - Pick 35: Freddie Swain, WR, Florida (Seattle Seahawks)\n",
      "Round 6 - Pick 34: Jordan Glasgow, OLB, Michigan (Indianapolis Colts)\n",
      "Round 6 - Pick 33: Dezmon Patmon, WR, Washington State (Indianapolis Colts)\n",
      "Round 6 - Pick 32: Isaiah Rodgers, CB, Massachusetts (Indianapolis Colts)\n",
      "Round 6 - Pick 31: Prince Tega Wanogho, OT, Auburn (Philadelphia Eagles)\n",
      "Round 6 - Pick 30: Simon Stepaniak, OG, Indiana (Green Bay Packers)\n",
      "Round 6 - Pick 29: Jake Hanson, C, Oregon (Green Bay Packers)\n",
      "Round 6 - Pick 28: Isaiah Hodgins, WR, Oregon State (Buffalo Bills)\n",
      "Round 6 - Pick 27: Tyler Davis, TE, Georgia Tech (Jacksonville Jaguars)\n",
      "Round 6 - Pick 26: Josh Metellus, SS, Michigan (Minnesota Vikings)\n",
      "Round 6 - Pick 25: Cassh Maluia, ILB, Wyoming (New England Patriots)\n",
      "Round 6 - Pick 24: Blake Brandel, OT, Oregon State (Minnesota Vikings)\n",
      "Round 6 - Pick 23: Evan Weaver, ILB, California (Arizona Cardinals)\n",
      "Round 6 - Pick 22: James Proche, WR, Southern Methodist (Baltimore Ravens)\n",
      "Round 6 - Pick 21: Quez Watkins, WR, Southern Miss (Philadelphia Eagles)\n",
      "Round 6 - Pick 20: Jordan Fuller, FS, Ohio State (Los Angeles Rams)\n",
      "Round 6 - Pick 19: Antoine Brooks Jr., SS, Maryland (Pittsburgh Steelers)\n",
      "Round 6 - Pick 18: John Penisini, DT, Utah (Detroit Lions)\n",
      "Round 6 - Pick 17: Shaun Bradley, ILB, Temple (Philadelphia Eagles)\n",
      "Round 6 - Pick 16: Justin Herron, OT, Wake Forest (New England Patriots)\n",
      "Round 6 - Pick 15: Khalil Davis, DT, Nebraska (Tampa Bay Buccaneers)\n",
      "Round 6 - Pick 14: Robert Windsor, DT, Penn State (Indianapolis Colts)\n",
      "Round 6 - Pick 13: Jon Runyan, OG, Michigan (Green Bay Packers)\n",
      "Round 6 - Pick 12: Braden Mann, P, Texas A&M (New York Jets)\n",
      "Round 6 - Pick 11: Charlie Woerner, TE, Georgia (San Francisco 49ers)\n",
      "Round 6 - Pick 10: Jake Luton, QB, Oregon State (Jacksonville Jaguars)\n",
      "Round 6 - Pick 9: Tyler Bass, K, Georgia Southern (Buffalo Bills)\n",
      "Round 6 - Pick 8: Donovan Peoples-Jones, WR, Michigan (Cleveland Browns)\n",
      "Round 6 - Pick 7: Alohi Gilman, FS, Notre Dame (Los Angeles Chargers)\n",
      "Round 6 - Pick 6: Blake Ferguson, LS, LSU (Miami Dolphins)\n",
      "Round 6 - Pick 5: Bravvion Roy, DT, Baylor (Carolina Panthers)\n",
      "Round 6 - Pick 4: Cam Brown, OLB, Penn State (New York Giants)\n",
      "Round 6 - Pick 3: Michael Onwenu, OG, Michigan (New England Patriots)\n",
      "Round 6 - Pick 2: Netane Muti, OG, Fresno State (Denver Broncos)\n",
      "Round 6 - Pick 1: Hakeem Adeniji, OG, Kansas (Cincinnati Bengals)\n",
      "Round 5 - Pick 34: Bradlee Anae, DE, Utah (Dallas Cowboys)\n",
      "Round 5 - Pick 33: Justin Strnad, OLB, Wake Forest (Denver Broncos)\n",
      "Round 5 - Pick 32: Mike Danna, DE, Michigan (Kansas City Chiefs)\n",
      "Round 5 - Pick 31: K.J. Osborn, WR, Miami (FL) (Minnesota Vikings)\n",
      "Round 5 - Pick 30: Kamal Martin, OLB, Minnesota (Green Bay Packers)\n",
      "Round 5 - Pick 29: Larrell Murchison, DT, North Carolina State (Tennessee Titans)\n",
      "Round 5 - Pick 28: Darnell Mooney, WR, Tulane (Chicago Bears)\n",
      "Round 5 - Pick 27: Jason Huntley, RB, New Mexico State (Detroit Lions)\n",
      "Round 5 - Pick 26: Isaiah Coulter, WR, Rhode Island (Houston Texans)\n",
      "Round 5 - Pick 25: Broderick Washington Jr., DT, Texas Tech (Baltimore Ravens)\n",
      "Round 5 - Pick 24: Harrison Hand, CB, Temple (Minnesota Vikings)\n",
      "Round 5 - Pick 23: John Hightower, WR, Boise State (Philadelphia Eagles)\n",
      "Round 5 - Pick 22: Jake Fromm, QB, Georgia (Buffalo Bills)\n",
      "Round 5 - Pick 21: Quintez Cephus, WR, Wisconsin (Detroit Lions)\n",
      "Round 5 - Pick 20: Collin Johnson, WR, Texas (Jacksonville Jaguars)\n",
      "Round 5 - Pick 19: Curtis Weaver, DE, Boise State (Miami Dolphins)\n",
      "Round 5 - Pick 18: Kindle Vildor, CB, Georgia Southern (Chicago Bears)\n",
      "Round 5 - Pick 17: Khaleke Hudson, OLB, Michigan (Washington Redskins)\n",
      "Round 5 - Pick 16: Tyler Johnson, WR, Minnesota (Tampa Bay Buccaneers)\n",
      "Round 5 - Pick 15: Nick Harris, C, Washington (Cleveland Browns)\n",
      "Round 5 - Pick 14: Justin Rohrwasser, K, Marshall (New England Patriots)\n",
      "Round 5 - Pick 13: Bryce Hall, CB, Virginia (New York Jets)\n",
      "Round 5 - Pick 12: Daniel Thomas, SS, Auburn (Jacksonville Jaguars)\n",
      "Round 5 - Pick 11: Keith Ismael, C, San Diego State (Washington Redskins)\n",
      "Round 5 - Pick 10: Trevis Gipson, DE, Tulsa (Chicago Bears)\n",
      "Round 5 - Pick 9: Jason Strowbridge, DE, North Carolina (Miami Dolphins)\n",
      "Round 5 - Pick 7: Colton McKivitz, OT, West Virginia (San Francisco 49ers)\n",
      "Round 5 - Pick 6: Kenny Robinson Jr., FS, West Virginia (Carolina Panthers)\n",
      "Round 5 - Pick 5: Joe Reed, WR, Virginia (Los Angeles Chargers)\n",
      "Round 5 - Pick 4: Shane Lemieux, OG, Oregon (New York Giants)\n",
      "Round 5 - Pick 3: Danny Pinter, OG, Ball State (Indianapolis Colts)\n",
      "Round 5 - Pick 2: Alton Robinson, DE, Syracuse (Seattle Seahawks)\n",
      "Round 5 - Pick 1: Khalid Kareem, DE, Notre Dame (Cincinnati Bengals)\n",
      "Round 4 - Pick 40: Tyler Biadasz, C, Wisconsin (Dallas Cowboys)\n",
      "Round 4 - Pick 39: Jack Driscoll, OG, Auburn (Philadelphia Eagles)\n",
      "Round 4 - Pick 38: DeeJay Dallas, RB, Miami (FL) (Seattle Seahawks)\n",
      "Round 4 - Pick 37: Ben Bredeson, OG, Michigan (Baltimore Ravens)\n",
      "Round 4 - Pick 36: Antonio Gandy-Golden, WR, Liberty (Washington Redskins)\n",
      "Round 4 - Pick 35: John Reid, CB, Penn State (Houston Texans)\n",
      "Round 4 - Pick 34: Shaquille Quarterman, ILB, Miami (FL) (Jacksonville Jaguars)\n",
      "Round 4 - Pick 33: Amik Robertson, CB, Louisiana Tech (Las Vegas Raiders)\n",
      "Round 4 - Pick 32: L'Jarius Sneed, FS, Louisiana Tech (Kansas City Chiefs)\n"
     ]
    },
    {
     "name": "stdout",
     "output_type": "stream",
     "text": [
      "Round 4 - Pick 31: Josiah Scott, CB, Michigan State (Jacksonville Jaguars)\n",
      "Round 4 - Pick 30: Brycen Hopkins, TE, Purdue (Los Angeles Rams)\n",
      "Round 4 - Pick 29: Kevin Dotson, OG, Louisiana (Pittsburgh Steelers)\n",
      "Round 4 - Pick 28: Jaylinn Hawkins, SS, California (Atlanta Falcons)\n",
      "Round 4 - Pick 27: Colby Parkinson, TE, Stanford (Seattle Seahawks)\n",
      "Round 4 - Pick 26: Troy Dye, OLB, Oregon (Minnesota Vikings)\n",
      "Round 4 - Pick 25: Rashard Lawrence, DT, LSU (Arizona Cardinals)\n",
      "Round 4 - Pick 24: James Lynch, DT, Baylor (Minnesota Vikings)\n",
      "Round 4 - Pick 23: Cameron Clark, OT, Charlotte (New York Jets)\n",
      "Round 4 - Pick 22: Gabriel Davis, WR, Central Florida (Buffalo Bills)\n",
      "Round 4 - Pick 21: K'Von Wallace, FS, Clemson (Philadelphia Eagles)\n",
      "Round 4 - Pick 20: Charlie Heck, OT, North Carolina (Houston Texans)\n",
      "Round 4 - Pick 19: James Morgan, QB, Florida International (New York Jets)\n",
      "Round 4 - Pick 18: Anthony McFarland Jr., RB, Maryland (Pittsburgh Steelers)\n",
      "Round 4 - Pick 17: Reggie Robinson II, CB, Tulsa (Dallas Cowboys)\n",
      "Round 4 - Pick 16: Jacob Eason, QB, Washington (Indianapolis Colts)\n",
      "Round 4 - Pick 15: Logan Stenberg, OG, Kentucky (Detroit Lions)\n",
      "Round 4 - Pick 14: Lamical Perine, RB, Florida (New York Jets)\n",
      "Round 4 - Pick 13: Mykal Walker, ILB, Fresno State (Atlanta Falcons)\n",
      "Round 4 - Pick 12: Albert Okwuegbunam, TE, Missouri (Denver Broncos)\n",
      "Round 4 - Pick 11: D.J. Wonnum, DE, South Carolina (Minnesota Vikings)\n",
      "Round 4 - Pick 10: Ben Bartch, OT, Saint Johns (MN) (Jacksonville Jaguars)\n",
      "Round 4 - Pick 9: Harrison Bryant, TE, Florida Atlantic (Cleveland Browns)\n",
      "Round 4 - Pick 8: Leki Fotu, DT, Utah (Arizona Cardinals)\n",
      "Round 4 - Pick 7: Troy Pride Jr., CB, Notre Dame (Carolina Panthers)\n",
      "Round 4 - Pick 6: Joshua Kelley, RB, UCLA (Los Angeles Chargers)\n",
      "Round 4 - Pick 5: Solomon Kindley, OG, Georgia (Miami Dolphins)\n",
      "Round 4 - Pick 4: Darnay Holmes, CB, UCLA (New York Giants)\n",
      "Round 4 - Pick 3: John Simpson, OG, Clemson (Las Vegas Raiders)\n",
      "Round 4 - Pick 2: Saahdiq Charles, OT, LSU (Washington Redskins)\n",
      "Round 4 - Pick 1: Akeem Davis-Gaither, OLB, Appalachian State (Cincinnati Bengals)\n",
      "2020 NFL Draft Day 3 Discussion thread - Spoilers\n",
      "2020 NFL Draft Day 3 Discussion thread - No Spoilers\n"
     ]
    }
   ],
   "source": [
    "comment_list = []\n",
    "\n",
    "for submission in reddit.redditor('NFL_MOD').submissions.new(limit=153):\n",
    "    submission.comments.replace_more(limit=None)\n",
    "    for comment in submission.comments.list():\n",
    "        if comment is not None and comment.author is not None:\n",
    "            row = [submission.title, comment.author.name, comment.author_flair_text, comment.body, comment.score, \n",
    "               comment.total_awards_received, comment.created_utc]\n",
    "            comment_list.append(row)\n",
    "    print(submission.title)"
   ]
  },
  {
   "cell_type": "code",
   "execution_count": 8,
   "metadata": {},
   "outputs": [],
   "source": [
    "df = pd.DataFrame(comment_list)"
   ]
  },
  {
   "cell_type": "code",
   "execution_count": 9,
   "metadata": {},
   "outputs": [
    {
     "data": {
      "text/html": [
       "<div>\n",
       "<style scoped>\n",
       "    .dataframe tbody tr th:only-of-type {\n",
       "        vertical-align: middle;\n",
       "    }\n",
       "\n",
       "    .dataframe tbody tr th {\n",
       "        vertical-align: top;\n",
       "    }\n",
       "\n",
       "    .dataframe thead th {\n",
       "        text-align: right;\n",
       "    }\n",
       "</style>\n",
       "<table border=\"1\" class=\"dataframe\">\n",
       "  <thead>\n",
       "    <tr style=\"text-align: right;\">\n",
       "      <th></th>\n",
       "      <th>0</th>\n",
       "      <th>1</th>\n",
       "      <th>2</th>\n",
       "      <th>3</th>\n",
       "      <th>4</th>\n",
       "      <th>5</th>\n",
       "      <th>6</th>\n",
       "    </tr>\n",
       "  </thead>\n",
       "  <tbody>\n",
       "    <tr>\n",
       "      <th>0</th>\n",
       "      <td>2020 NFL Draft Day 3 Post-draft Discussion</td>\n",
       "      <td>reck15</td>\n",
       "      <td>Falcons</td>\n",
       "      <td>If I learned anything from the 2020 NFL draft ...</td>\n",
       "      <td>927</td>\n",
       "      <td>0</td>\n",
       "      <td>1.587856e+09</td>\n",
       "    </tr>\n",
       "    <tr>\n",
       "      <th>1</th>\n",
       "      <td>2020 NFL Draft Day 3 Post-draft Discussion</td>\n",
       "      <td>_bonzibuddy</td>\n",
       "      <td>Eagles</td>\n",
       "      <td>This virtual draft went better than expected, ...</td>\n",
       "      <td>466</td>\n",
       "      <td>0</td>\n",
       "      <td>1.587856e+09</td>\n",
       "    </tr>\n",
       "    <tr>\n",
       "      <th>2</th>\n",
       "      <td>2020 NFL Draft Day 3 Post-draft Discussion</td>\n",
       "      <td>Rexy1776</td>\n",
       "      <td>Ravens</td>\n",
       "      <td>Colts had 3 straight picks is that a record?</td>\n",
       "      <td>184</td>\n",
       "      <td>0</td>\n",
       "      <td>1.587856e+09</td>\n",
       "    </tr>\n",
       "    <tr>\n",
       "      <th>3</th>\n",
       "      <td>2020 NFL Draft Day 3 Post-draft Discussion</td>\n",
       "      <td>suzukigun4life</td>\n",
       "      <td>NFL</td>\n",
       "      <td>In February, Lamar Jackson was named the NFL's...</td>\n",
       "      <td>678</td>\n",
       "      <td>0</td>\n",
       "      <td>1.587856e+09</td>\n",
       "    </tr>\n",
       "    <tr>\n",
       "      <th>4</th>\n",
       "      <td>2020 NFL Draft Day 3 Post-draft Discussion</td>\n",
       "      <td>Mjb06</td>\n",
       "      <td>Colts</td>\n",
       "      <td>I’m surprised Dan Smith, BYU didn’t get drafted.</td>\n",
       "      <td>165</td>\n",
       "      <td>0</td>\n",
       "      <td>1.587856e+09</td>\n",
       "    </tr>\n",
       "  </tbody>\n",
       "</table>\n",
       "</div>"
      ],
      "text/plain": [
       "                                            0               1        2  \\\n",
       "0  2020 NFL Draft Day 3 Post-draft Discussion          reck15  Falcons   \n",
       "1  2020 NFL Draft Day 3 Post-draft Discussion     _bonzibuddy   Eagles   \n",
       "2  2020 NFL Draft Day 3 Post-draft Discussion        Rexy1776   Ravens   \n",
       "3  2020 NFL Draft Day 3 Post-draft Discussion  suzukigun4life      NFL   \n",
       "4  2020 NFL Draft Day 3 Post-draft Discussion           Mjb06    Colts   \n",
       "\n",
       "                                                   3    4  5             6  \n",
       "0  If I learned anything from the 2020 NFL draft ...  927  0  1.587856e+09  \n",
       "1  This virtual draft went better than expected, ...  466  0  1.587856e+09  \n",
       "2       Colts had 3 straight picks is that a record?  184  0  1.587856e+09  \n",
       "3  In February, Lamar Jackson was named the NFL's...  678  0  1.587856e+09  \n",
       "4   I’m surprised Dan Smith, BYU didn’t get drafted.  165  0  1.587856e+09  "
      ]
     },
     "execution_count": 9,
     "metadata": {},
     "output_type": "execute_result"
    }
   ],
   "source": [
    "df.head()"
   ]
  },
  {
   "cell_type": "code",
   "execution_count": 10,
   "metadata": {},
   "outputs": [
    {
     "data": {
      "text/plain": [
       "(16324, 7)"
      ]
     },
     "execution_count": 10,
     "metadata": {},
     "output_type": "execute_result"
    }
   ],
   "source": [
    "df.shape"
   ]
  },
  {
   "cell_type": "code",
   "execution_count": 11,
   "metadata": {},
   "outputs": [],
   "source": [
    "df.to_json('data/round4_7.json')"
   ]
  },
  {
   "cell_type": "code",
   "execution_count": 12,
   "metadata": {},
   "outputs": [],
   "source": [
    "r1 = pd.read_json('round1.json')\n",
    "r23 = pd.read_json('round2_3.json')\n",
    "r47 = pd.read_json('round4_7.json')"
   ]
  },
  {
   "cell_type": "code",
   "execution_count": 13,
   "metadata": {},
   "outputs": [],
   "source": [
    "master = pd.concat([r1, r23, r47])"
   ]
  },
  {
   "cell_type": "code",
   "execution_count": 14,
   "metadata": {},
   "outputs": [
    {
     "data": {
      "text/plain": [
       "(105931, 7)"
      ]
     },
     "execution_count": 14,
     "metadata": {},
     "output_type": "execute_result"
    }
   ],
   "source": [
    "master.shape"
   ]
  },
  {
   "cell_type": "code",
   "execution_count": 15,
   "metadata": {},
   "outputs": [],
   "source": [
    "master.drop_duplicates(inplace=True)"
   ]
  },
  {
   "cell_type": "code",
   "execution_count": 16,
   "metadata": {},
   "outputs": [
    {
     "data": {
      "text/plain": [
       "(105931, 7)"
      ]
     },
     "execution_count": 16,
     "metadata": {},
     "output_type": "execute_result"
    }
   ],
   "source": [
    "master.shape"
   ]
  },
  {
   "cell_type": "code",
   "execution_count": 17,
   "metadata": {},
   "outputs": [
    {
     "data": {
      "text/html": [
       "<div>\n",
       "<style scoped>\n",
       "    .dataframe tbody tr th:only-of-type {\n",
       "        vertical-align: middle;\n",
       "    }\n",
       "\n",
       "    .dataframe tbody tr th {\n",
       "        vertical-align: top;\n",
       "    }\n",
       "\n",
       "    .dataframe thead th {\n",
       "        text-align: right;\n",
       "    }\n",
       "</style>\n",
       "<table border=\"1\" class=\"dataframe\">\n",
       "  <thead>\n",
       "    <tr style=\"text-align: right;\">\n",
       "      <th></th>\n",
       "      <th>0</th>\n",
       "      <th>1</th>\n",
       "      <th>2</th>\n",
       "      <th>3</th>\n",
       "      <th>4</th>\n",
       "      <th>5</th>\n",
       "      <th>6</th>\n",
       "    </tr>\n",
       "  </thead>\n",
       "  <tbody>\n",
       "    <tr>\n",
       "      <th>0</th>\n",
       "      <td>2020 NFL Draft Day 1 Post-draft Discussion</td>\n",
       "      <td>T_Raycroft</td>\n",
       "      <td>Raiders</td>\n",
       "      <td>That Love pick was something else. Holy shit.\\...</td>\n",
       "      <td>1218</td>\n",
       "      <td>0</td>\n",
       "      <td>1587687051000</td>\n",
       "    </tr>\n",
       "    <tr>\n",
       "      <th>1</th>\n",
       "      <td>2020 NFL Draft Day 1 Post-draft Discussion</td>\n",
       "      <td>bears_34</td>\n",
       "      <td>Colts</td>\n",
       "      <td>“Keep the booze coming too” \\n\\n(I know it was...</td>\n",
       "      <td>316</td>\n",
       "      <td>0</td>\n",
       "      <td>1587687309000</td>\n",
       "    </tr>\n",
       "    <tr>\n",
       "      <th>2</th>\n",
       "      <td>2020 NFL Draft Day 1 Post-draft Discussion</td>\n",
       "      <td>Conglossian</td>\n",
       "      <td>Panthers</td>\n",
       "      <td>[Vrabel's draft room is the highlight. It has ...</td>\n",
       "      <td>545</td>\n",
       "      <td>0</td>\n",
       "      <td>1587687069000</td>\n",
       "    </tr>\n",
       "    <tr>\n",
       "      <th>3</th>\n",
       "      <td>2020 NFL Draft Day 1 Post-draft Discussion</td>\n",
       "      <td>mostinterestingtroll</td>\n",
       "      <td>Patriots</td>\n",
       "      <td>RIP Rodgers.</td>\n",
       "      <td>227</td>\n",
       "      <td>0</td>\n",
       "      <td>1587687076000</td>\n",
       "    </tr>\n",
       "    <tr>\n",
       "      <th>4</th>\n",
       "      <td>2020 NFL Draft Day 1 Post-draft Discussion</td>\n",
       "      <td>ucaliptastree</td>\n",
       "      <td>Ravens</td>\n",
       "      <td>First half: Predictable\\n\\nSecond half: WTF</td>\n",
       "      <td>649</td>\n",
       "      <td>0</td>\n",
       "      <td>1587687089000</td>\n",
       "    </tr>\n",
       "  </tbody>\n",
       "</table>\n",
       "</div>"
      ],
      "text/plain": [
       "                                            0                     1         2  \\\n",
       "0  2020 NFL Draft Day 1 Post-draft Discussion            T_Raycroft   Raiders   \n",
       "1  2020 NFL Draft Day 1 Post-draft Discussion              bears_34     Colts   \n",
       "2  2020 NFL Draft Day 1 Post-draft Discussion           Conglossian  Panthers   \n",
       "3  2020 NFL Draft Day 1 Post-draft Discussion  mostinterestingtroll  Patriots   \n",
       "4  2020 NFL Draft Day 1 Post-draft Discussion         ucaliptastree    Ravens   \n",
       "\n",
       "                                                   3     4  5              6  \n",
       "0  That Love pick was something else. Holy shit.\\...  1218  0  1587687051000  \n",
       "1  “Keep the booze coming too” \\n\\n(I know it was...   316  0  1587687309000  \n",
       "2  [Vrabel's draft room is the highlight. It has ...   545  0  1587687069000  \n",
       "3                                       RIP Rodgers.   227  0  1587687076000  \n",
       "4        First half: Predictable\\n\\nSecond half: WTF   649  0  1587687089000  "
      ]
     },
     "execution_count": 17,
     "metadata": {},
     "output_type": "execute_result"
    }
   ],
   "source": [
    "master.head()"
   ]
  },
  {
   "cell_type": "code",
   "execution_count": null,
   "metadata": {},
   "outputs": [],
   "source": []
  }
 ],
 "metadata": {
  "kernelspec": {
   "display_name": "Python 3",
   "language": "python",
   "name": "python3"
  },
  "language_info": {
   "codemirror_mode": {
    "name": "ipython",
    "version": 3
   },
   "file_extension": ".py",
   "mimetype": "text/x-python",
   "name": "python",
   "nbconvert_exporter": "python",
   "pygments_lexer": "ipython3",
   "version": "3.7.3"
  }
 },
 "nbformat": 4,
 "nbformat_minor": 2
}
