{
 "cells": [
  {
   "cell_type": "markdown",
   "metadata": {},
   "source": [
    "# NFL Embeddings With CBOW\n",
    "\n",
    "This notebook is an attempt at training word embeddings from the compiled Reddit NFL draft comments. The idea was to find out which word entities (players, teams, coaches, etc) we're used in similar context with each other-- they would then have similar embeddings.\n",
    "\n",
    "I trained the embeddings using tranfer learning with Stanford's GloVe 50-dimensional vectors. Words in my corpus that were also in the GloVe corpus were intialized with the GloVe vectors, and the rest randomly. "
   ]
  },
  {
   "cell_type": "code",
   "execution_count": 1,
   "metadata": {
    "hideCode": false,
    "hidePrompt": false
   },
   "outputs": [],
   "source": [
    "import numpy as np\n",
    "import pandas as pd\n",
    "import spacy\n",
    "import string\n",
    "import random\n",
    "import re\n",
    "\n",
    "from collections import defaultdict\n",
    "from collections import Counter"
   ]
  },
  {
   "cell_type": "code",
   "execution_count": 279,
   "metadata": {
    "hideCode": false,
    "hidePrompt": false
   },
   "outputs": [],
   "source": [
    "from sklearn.manifold import TSNE\n",
    "import matplotlib.pyplot as plt"
   ]
  },
  {
   "cell_type": "code",
   "execution_count": 2,
   "metadata": {
    "hideCode": false,
    "hidePrompt": false
   },
   "outputs": [],
   "source": [
    "# import pytorch libraries\n",
    "%matplotlib inline\n",
    "import torch \n",
    "import torch.nn as nn \n",
    "import torch.nn.functional as F\n",
    "import torch.optim as optim\n",
    "from torch.utils.data import Dataset, DataLoader"
   ]
  },
  {
   "cell_type": "markdown",
   "metadata": {
    "hideCode": false,
    "hidePrompt": false
   },
   "source": [
    "###### Load NFL Comments"
   ]
  },
  {
   "cell_type": "code",
   "execution_count": 3,
   "metadata": {
    "hideCode": false,
    "hidePrompt": false
   },
   "outputs": [],
   "source": [
    "r1 = pd.read_json('data/round1.json')\n",
    "r2_3 = pd.read_json('data/round2_3.json')\n",
    "r4_7 = pd.read_json('data/round4_7.json')\n",
    "comments = pd.concat([r1, r2_3, r4_7])\n",
    "comments.columns = ['Thread', 'User', 'Flair', 'Comment', 'Score', 'Awards', 'Time']"
   ]
  },
  {
   "cell_type": "markdown",
   "metadata": {},
   "source": [
    "We replace hyperlinks and new line characters with empty strings."
   ]
  },
  {
   "cell_type": "code",
   "execution_count": 4,
   "metadata": {
    "hideCode": false,
    "hidePrompt": false
   },
   "outputs": [],
   "source": [
    "comments.Comment = comments.Comment.str.replace(r'http\\S+', '')\n",
    "comments.Comment = comments.Comment.str.replace('\\n', ' ')"
   ]
  },
  {
   "cell_type": "markdown",
   "metadata": {
    "hideCode": false,
    "hidePrompt": false
   },
   "source": [
    "###### Clean Text and Create Vocab\n",
    "\n",
    "I used the Spacy library to tokenize the text. 'merge_entities' keeps entity strings together, instead of splitting on white space, e.g. 'joe burrow' rather than 'joe', 'burrow'.\n",
    "\n",
    "I also clean the text by changing it all to lowercase, stripping whitespace and removing words with 1 character or less."
   ]
  },
  {
   "cell_type": "code",
   "execution_count": 5,
   "metadata": {
    "hideCode": false,
    "hidePrompt": false
   },
   "outputs": [],
   "source": [
    "nlp = spacy.load(\"en_core_web_sm\")"
   ]
  },
  {
   "cell_type": "code",
   "execution_count": 6,
   "metadata": {
    "hideCode": false,
    "hidePrompt": false
   },
   "outputs": [],
   "source": [
    "merge_ents = nlp.create_pipe(\"merge_entities\")\n",
    "nlp.add_pipe(merge_ents)"
   ]
  },
  {
   "cell_type": "code",
   "execution_count": 7,
   "metadata": {
    "hideCode": false,
    "hidePrompt": false
   },
   "outputs": [],
   "source": [
    "regex = re.compile('[^a-z ]')"
   ]
  },
  {
   "cell_type": "code",
   "execution_count": 8,
   "metadata": {
    "hideCode": false,
    "hidePrompt": false
   },
   "outputs": [],
   "source": [
    "def clean_text(row):\n",
    "    text_list = [t.text.lower() for t in nlp(row)]\n",
    "    text_list = [regex.sub('', w) for w in text_list]\n",
    "    text_list = [text.strip() for text in text_list if len(text.strip()) > 1]\n",
    "    return text_list"
   ]
  },
  {
   "cell_type": "markdown",
   "metadata": {},
   "source": [
    "For the CBOW model, we only keep comments longer than 7 words/entities."
   ]
  },
  {
   "cell_type": "code",
   "execution_count": 9,
   "metadata": {
    "hideCode": false,
    "hidePrompt": false
   },
   "outputs": [],
   "source": [
    "text = [clean_text(com) for com in comments.Comment.values]\n",
    "text = [comment for comment in text if len(comment) >= 7]"
   ]
  },
  {
   "cell_type": "code",
   "execution_count": 303,
   "metadata": {},
   "outputs": [
    {
     "data": {
      "text/plain": [
       "['that',\n",
       " 'love',\n",
       " 'pick',\n",
       " 'was',\n",
       " 'something',\n",
       " 'else',\n",
       " 'holy',\n",
       " 'shit',\n",
       " 'shockingly',\n",
       " 'by',\n",
       " 'the',\n",
       " 'book',\n",
       " 'for',\n",
       " 'the',\n",
       " 'first',\n",
       " 'picks']"
      ]
     },
     "execution_count": 303,
     "metadata": {},
     "output_type": "execute_result"
    }
   ],
   "source": [
    "text[0]"
   ]
  },
  {
   "cell_type": "markdown",
   "metadata": {},
   "source": [
    "## CBOW\n",
    "\n",
    "CBOW is a continuous-bag-of-words model, so we iterate through the text list and create all 7 word windows from each indiviual comment."
   ]
  },
  {
   "cell_type": "code",
   "execution_count": 10,
   "metadata": {
    "hideCode": false,
    "hidePrompt": false
   },
   "outputs": [],
   "source": [
    "text_cbow = [seq[i-6:i+1] for seq in text for i in range(6, len(seq))]"
   ]
  },
  {
   "cell_type": "code",
   "execution_count": 11,
   "metadata": {
    "hideCode": false,
    "hidePrompt": false
   },
   "outputs": [
    {
     "data": {
      "text/plain": [
       "[['that', 'love', 'pick', 'was', 'something', 'else', 'holy'],\n",
       " ['love', 'pick', 'was', 'something', 'else', 'holy', 'shit'],\n",
       " ['pick', 'was', 'something', 'else', 'holy', 'shit', 'shockingly'],\n",
       " ['was', 'something', 'else', 'holy', 'shit', 'shockingly', 'by'],\n",
       " ['something', 'else', 'holy', 'shit', 'shockingly', 'by', 'the']]"
      ]
     },
     "execution_count": 11,
     "metadata": {},
     "output_type": "execute_result"
    }
   ],
   "source": [
    "text_cbow[:5]"
   ]
  },
  {
   "cell_type": "markdown",
   "metadata": {},
   "source": [
    "Split the dataset into 80% train and 20% validation."
   ]
  },
  {
   "cell_type": "code",
   "execution_count": 12,
   "metadata": {
    "hideCode": false,
    "hidePrompt": false
   },
   "outputs": [],
   "source": [
    "random.shuffle(text_cbow)"
   ]
  },
  {
   "cell_type": "code",
   "execution_count": 13,
   "metadata": {
    "hideCode": false,
    "hidePrompt": false
   },
   "outputs": [
    {
     "data": {
      "text/plain": [
       "(493168, 123293, 616461)"
      ]
     },
     "execution_count": 13,
     "metadata": {},
     "output_type": "execute_result"
    }
   ],
   "source": [
    "idx = len(text_cbow)\n",
    "train, val = text_cbow[:int(idx*0.80)], text_cbow[int(idx*0.80):]\n",
    "len(train), len(val), idx"
   ]
  },
  {
   "cell_type": "markdown",
   "metadata": {},
   "source": [
    "Get all words in our training vocabulary. Delete rare words."
   ]
  },
  {
   "cell_type": "code",
   "execution_count": 14,
   "metadata": {
    "hideCode": false,
    "hidePrompt": false
   },
   "outputs": [],
   "source": [
    "trn_vocab = [word for seq in train for word in seq]"
   ]
  },
  {
   "cell_type": "code",
   "execution_count": 15,
   "metadata": {
    "hideCode": false,
    "hidePrompt": false
   },
   "outputs": [
    {
     "data": {
      "text/plain": [
       "29748"
      ]
     },
     "execution_count": 15,
     "metadata": {},
     "output_type": "execute_result"
    }
   ],
   "source": [
    "word_ct = Counter(trn_vocab)\n",
    "len(word_ct.keys())"
   ]
  },
  {
   "cell_type": "code",
   "execution_count": 16,
   "metadata": {
    "hideCode": false,
    "hidePrompt": false
   },
   "outputs": [],
   "source": [
    "# Delete words that are very infrequent, < 10 instances\n",
    "for word in list(word_ct):\n",
    "    if word_ct[word] < 10:\n",
    "        del word_ct[word]"
   ]
  },
  {
   "cell_type": "code",
   "execution_count": 17,
   "metadata": {
    "hideCode": false,
    "hidePrompt": false
   },
   "outputs": [
    {
     "data": {
      "text/plain": [
       "10518"
      ]
     },
     "execution_count": 17,
     "metadata": {},
     "output_type": "execute_result"
    }
   ],
   "source": [
    "len(word_ct.keys())"
   ]
  },
  {
   "cell_type": "markdown",
   "metadata": {},
   "source": [
    "Label encode each individual word, 'UNK' is for unknown words that may be in validation but not training."
   ]
  },
  {
   "cell_type": "code",
   "execution_count": 18,
   "metadata": {
    "hideCode": false,
    "hidePrompt": false
   },
   "outputs": [],
   "source": [
    "# Label encode vocab words\n",
    "vocab2idx = {'UNK': 0} # Intialize with unknown\n",
    "words = ['UNK']\n",
    "for word in word_ct:\n",
    "    vocab2idx[word] = len(words)\n",
    "    words.append(word)"
   ]
  },
  {
   "cell_type": "code",
   "execution_count": 19,
   "metadata": {
    "hideCode": false,
    "hidePrompt": false
   },
   "outputs": [],
   "source": [
    "def encode_seq(seq):\n",
    "    return [vocab2idx.get(word, vocab2idx['UNK']) for word in seq]"
   ]
  },
  {
   "cell_type": "code",
   "execution_count": 20,
   "metadata": {
    "hideCode": false,
    "hidePrompt": false
   },
   "outputs": [],
   "source": [
    "train = [encode_seq(seq) for seq in train]\n",
    "val = [encode_seq(seq) for seq in val]"
   ]
  },
  {
   "cell_type": "markdown",
   "metadata": {},
   "source": [
    "The CBOW Dataset: Take the now label encoded windows of words, each has length 7. The middle word is the target y, and the context, words 1-3 and 4-6 are the inputs. We want to predict the target word from it's context."
   ]
  },
  {
   "cell_type": "code",
   "execution_count": 21,
   "metadata": {
    "hideCode": false,
    "hidePrompt": false
   },
   "outputs": [],
   "source": [
    "class CBOWDataset(Dataset):\n",
    "    def __init__(self, encoding):\n",
    "        self.df = encoding\n",
    "\n",
    "    def __len__(self):\n",
    "        \"\"\" Length of the dataset \"\"\"\n",
    "        L = len(self.df)\n",
    "        return L\n",
    "\n",
    "    def __getitem__(self, idx):\n",
    "        \"\"\" returns x[idx], y[idx] for this dataset\n",
    "        \n",
    "        x[idx] should be a numpy array of shape (6,)\n",
    "        \"\"\"\n",
    "        x = self.df[idx][:3] + self.df[idx][4:]\n",
    "        y = self.df[idx][3]\n",
    "        return np.array(x), y "
   ]
  },
  {
   "cell_type": "code",
   "execution_count": 22,
   "metadata": {},
   "outputs": [
    {
     "data": {
      "text/plain": [
       "[[1, 2, 3, 4, 5, 6, 7]]"
      ]
     },
     "execution_count": 22,
     "metadata": {},
     "output_type": "execute_result"
    }
   ],
   "source": [
    "train[:1]"
   ]
  },
  {
   "cell_type": "code",
   "execution_count": 23,
   "metadata": {
    "hideCode": false,
    "hidePrompt": false
   },
   "outputs": [
    {
     "data": {
      "text/plain": [
       "(array([1, 2, 3, 5, 6, 7]), 4)"
      ]
     },
     "execution_count": 23,
     "metadata": {},
     "output_type": "execute_result"
    }
   ],
   "source": [
    "dataset = CBOWDataset(train[:1])\n",
    "x, y = dataset[0]\n",
    "x, y"
   ]
  },
  {
   "cell_type": "code",
   "execution_count": 24,
   "metadata": {
    "scrolled": true
   },
   "outputs": [
    {
     "data": {
      "text/plain": [
       "10519"
      ]
     },
     "execution_count": 24,
     "metadata": {},
     "output_type": "execute_result"
    }
   ],
   "source": [
    "V = len(vocab2idx.keys())\n",
    "V"
   ]
  },
  {
   "cell_type": "markdown",
   "metadata": {},
   "source": [
    "##### Loading GloVe Vectors\n",
    "\n",
    "We load the GloVe vectors from the text file and store in a dictionary with word: vec."
   ]
  },
  {
   "cell_type": "code",
   "execution_count": 25,
   "metadata": {},
   "outputs": [],
   "source": [
    "def loadGloveModel(gloveFile=\"data/glove.6B.50d.txt\"):\n",
    "    \"\"\" Loads word vectors into a dictionary.\"\"\"\n",
    "    f = open(gloveFile,'r')\n",
    "    word_vecs = {}\n",
    "    for line in f:\n",
    "        splitLine = line.split()\n",
    "        word = splitLine[0]\n",
    "        word_vecs[word] = np.array([float(val) for val in splitLine[1:]])\n",
    "    return word_vecs"
   ]
  },
  {
   "cell_type": "code",
   "execution_count": 26,
   "metadata": {},
   "outputs": [
    {
     "data": {
      "text/plain": [
       "400000"
      ]
     },
     "execution_count": 26,
     "metadata": {},
     "output_type": "execute_result"
    }
   ],
   "source": [
    "word_vecs = loadGloveModel()\n",
    "len(word_vecs.keys())"
   ]
  },
  {
   "cell_type": "markdown",
   "metadata": {},
   "source": [
    "W will be our embedding matrix. We iterate through our training vocab and if the word has a GloVe vector, initialize it's index with the pre-trained vecor. Otherwise use a random vector."
   ]
  },
  {
   "cell_type": "code",
   "execution_count": 27,
   "metadata": {},
   "outputs": [],
   "source": [
    "W = np.zeros((V, 50), dtype=\"float32\")\n",
    "for word, idx in vocab2idx.items():\n",
    "    if word == 'UNK':\n",
    "        continue\n",
    "    try:\n",
    "        vec = word_vecs[word]\n",
    "        W[idx] = vec\n",
    "    except KeyError:\n",
    "        W[idx] = np.random.uniform(-0.25, 0.25, 50)"
   ]
  },
  {
   "cell_type": "code",
   "execution_count": 28,
   "metadata": {},
   "outputs": [
    {
     "data": {
      "text/plain": [
       "(10519, 50)"
      ]
     },
     "execution_count": 28,
     "metadata": {},
     "output_type": "execute_result"
    }
   ],
   "source": [
    "W.shape"
   ]
  },
  {
   "cell_type": "markdown",
   "metadata": {},
   "source": [
    "## Model\n",
    "\n",
    "Architecture:\n",
    "\n",
    "Input: x (length 6 vector, dim 1x6), y (index of target word, dim 1x1)\n",
    "\n",
    "Lookup each embedding of our 6 context words (dim 6x50) and take the mean (dim 1x50).\n",
    "\n",
    "Linear layer from dim 50 to dim V (len of training vocab)."
   ]
  },
  {
   "cell_type": "code",
   "execution_count": 52,
   "metadata": {
    "hideCode": false,
    "hidePrompt": false
   },
   "outputs": [],
   "source": [
    "class CBOW(nn.Module):\n",
    "    def __init__(self, vocab_size, emb_size, glove=None):\n",
    "        super(CBOW, self).__init__()\n",
    "        self.word_emb = nn.Embedding(vocab_size, emb_size)\n",
    "        if glove is not None:\n",
    "            self.word_emb.weight.data.copy_(torch.from_numpy(W))\n",
    "            self.word_emb.weight.requires_grad = False ## freeze embeddings\n",
    "            \n",
    "        self.linear = nn.Linear(emb_size, vocab_size)\n",
    "        \n",
    "    def forward(self, x):\n",
    "        x = self.word_emb(x)\n",
    "        x = x.mean(axis=1)\n",
    "        x = self.linear(x)\n",
    "        return x"
   ]
  },
  {
   "cell_type": "code",
   "execution_count": 53,
   "metadata": {
    "hideCode": false,
    "hidePrompt": false
   },
   "outputs": [],
   "source": [
    "V = len(words)\n",
    "emb = 10\n",
    "\n",
    "model = CBOW(vocab_size=V, emb_size=emb)\n",
    "small_dl = DataLoader(dataset, batch_size=2)\n",
    "x, y = next(iter(small_dl))"
   ]
  },
  {
   "cell_type": "code",
   "execution_count": 54,
   "metadata": {
    "hideCode": false,
    "hidePrompt": false,
    "scrolled": true
   },
   "outputs": [
    {
     "data": {
      "text/plain": [
       "torch.Size([1, 10519])"
      ]
     },
     "execution_count": 54,
     "metadata": {},
     "output_type": "execute_result"
    }
   ],
   "source": [
    "out = model(x)\n",
    "out.size()"
   ]
  },
  {
   "cell_type": "code",
   "execution_count": 55,
   "metadata": {},
   "outputs": [],
   "source": [
    "def save_model(m, p): torch.save(m.state_dict(), p)\n",
    "    \n",
    "def load_model(m, p): m.load_state_dict(torch.load(p))"
   ]
  },
  {
   "cell_type": "code",
   "execution_count": 56,
   "metadata": {
    "hideCode": false,
    "hidePrompt": false
   },
   "outputs": [],
   "source": [
    "def val_metrics(model):\n",
    "    model.eval()\n",
    "    total = 0\n",
    "    sum_loss = 0\n",
    "    correct = 0\n",
    "    for x, y in valid_dl:\n",
    "        batch = y.shape[0]\n",
    "        out = model(x.long())\n",
    "        loss = F.cross_entropy(out, y)\n",
    "        sum_loss += batch*(loss.item())\n",
    "        total += batch\n",
    "        pred = torch.max(out, dim=1)[1]\n",
    "        correct += (pred == y).float().sum().item()\n",
    "    val_loss = sum_loss/total\n",
    "    val_acc = correct/total\n",
    "    return val_loss, val_acc"
   ]
  },
  {
   "cell_type": "code",
   "execution_count": 57,
   "metadata": {
    "hideCode": false,
    "hidePrompt": false
   },
   "outputs": [],
   "source": [
    "def train_epocs(model, optimizer, epochs=10):\n",
    "    prev_val_acc = 0\n",
    "    for i in range(epochs):\n",
    "        total_loss = 0\n",
    "        total = 0\n",
    "        model.train()\n",
    "        for x, y in train_dl:\n",
    "            y_hat = model(x.long())\n",
    "            loss = F.cross_entropy(y_hat, y)\n",
    "            optimizer.zero_grad()\n",
    "            loss.backward()\n",
    "            optimizer.step()\n",
    "            total_loss += x.size(0)*loss.item()\n",
    "            total += x.size(0)\n",
    "        train_loss = total_loss/total\n",
    "        val_loss, val_accuracy = val_metrics(model)\n",
    "        \n",
    "        print(\"train_loss %.3f val_loss %.3f val_accuracy %.3f\" % (\n",
    "            train_loss, val_loss, val_accuracy))\n",
    "        \n",
    "        #  save model\n",
    "        if val_accuracy > prev_val_acc:\n",
    "            prev_val_acc = val_accuracy\n",
    "            path = \"models/embedding_{0:.1f}.pth\".format(100*val_accuracy) \n",
    "            if val_accuracy > 0.12:\n",
    "                save_model(model, path)\n",
    "                print(path)"
   ]
  },
  {
   "cell_type": "code",
   "execution_count": 58,
   "metadata": {
    "hideCode": false,
    "hidePrompt": false
   },
   "outputs": [],
   "source": [
    "def set_learning_rate(optimizer, lr):\n",
    "    \"\"\"Changing learning rates without creating a new optimizer\"\"\"\n",
    "    for param_group in optimizer.param_groups:\n",
    "        param_group['lr'] = lr"
   ]
  },
  {
   "cell_type": "code",
   "execution_count": 59,
   "metadata": {
    "hideCode": false,
    "hidePrompt": false
   },
   "outputs": [],
   "source": [
    "train_ds = CBOWDataset(train)\n",
    "valid_ds = CBOWDataset(val)\n",
    "train_dl = DataLoader(train_ds, batch_size=10000, shuffle=True)\n",
    "valid_dl = DataLoader(valid_ds, batch_size=10000)"
   ]
  },
  {
   "cell_type": "markdown",
   "metadata": {},
   "source": [
    "###### Training\n",
    "\n",
    "Train for 3 epocs with frozen embeddings. Just learning from initial GloVe vectors and random initialization."
   ]
  },
  {
   "cell_type": "code",
   "execution_count": 60,
   "metadata": {
    "hideCode": false,
    "hidePrompt": false
   },
   "outputs": [],
   "source": [
    "model = CBOW(V, emb_size=50, glove=W)\n",
    "parameters = filter(lambda p: p.requires_grad, model.parameters())\n",
    "optimizer = torch.optim.Adam(parameters, lr=0.025)"
   ]
  },
  {
   "cell_type": "code",
   "execution_count": 61,
   "metadata": {
    "hideCode": false,
    "hidePrompt": false
   },
   "outputs": [
    {
     "name": "stdout",
     "output_type": "stream",
     "text": [
      "train_loss 6.783 val_loss 6.349 val_accuracy 0.055\n",
      "train_loss 6.242 val_loss 6.252 val_accuracy 0.059\n",
      "train_loss 6.136 val_loss 6.213 val_accuracy 0.061\n"
     ]
    }
   ],
   "source": [
    "train_epocs(model, optimizer, epochs=3)"
   ]
  },
  {
   "cell_type": "markdown",
   "metadata": {},
   "source": [
    "Unfreeze embeddings and train more. We should see a decent size boost in accuracy intially."
   ]
  },
  {
   "cell_type": "code",
   "execution_count": 62,
   "metadata": {},
   "outputs": [],
   "source": [
    "# unfreezing the embeddings\n",
    "model.word_emb.weight.requires_grad = True\n",
    "parameters = filter(lambda p: p.requires_grad, model.parameters())\n",
    "optimizer = torch.optim.Adam(parameters, lr=0.025)"
   ]
  },
  {
   "cell_type": "code",
   "execution_count": 63,
   "metadata": {},
   "outputs": [
    {
     "name": "stdout",
     "output_type": "stream",
     "text": [
      "train_loss 5.861 val_loss 5.788 val_accuracy 0.109\n",
      "train_loss 5.408 val_loss 5.658 val_accuracy 0.124\n",
      "models/embedding_12.4.pth\n",
      "train_loss 5.173 val_loss 5.623 val_accuracy 0.130\n",
      "models/embedding_13.0.pth\n",
      "train_loss 5.007 val_loss 5.623 val_accuracy 0.133\n",
      "models/embedding_13.3.pth\n",
      "train_loss 4.880 val_loss 5.647 val_accuracy 0.134\n",
      "models/embedding_13.4.pth\n"
     ]
    }
   ],
   "source": [
    "train_epocs(model, optimizer, epochs=5)"
   ]
  },
  {
   "cell_type": "code",
   "execution_count": 64,
   "metadata": {},
   "outputs": [],
   "source": [
    "set_learning_rate(optimizer, 0.01)"
   ]
  },
  {
   "cell_type": "code",
   "execution_count": 65,
   "metadata": {},
   "outputs": [
    {
     "name": "stdout",
     "output_type": "stream",
     "text": [
      "train_loss 4.717 val_loss 5.647 val_accuracy 0.135\n",
      "models/embedding_13.5.pth\n",
      "train_loss 4.673 val_loss 5.663 val_accuracy 0.135\n",
      "models/embedding_13.5.pth\n",
      "train_loss 4.637 val_loss 5.678 val_accuracy 0.135\n"
     ]
    }
   ],
   "source": [
    "train_epocs(model, optimizer, epochs=3)"
   ]
  },
  {
   "cell_type": "markdown",
   "metadata": {},
   "source": [
    "## Analyze Vectors"
   ]
  },
  {
   "cell_type": "code",
   "execution_count": 66,
   "metadata": {
    "hideCode": false,
    "hidePrompt": false
   },
   "outputs": [],
   "source": [
    "from annoy import AnnoyIndex"
   ]
  },
  {
   "cell_type": "code",
   "execution_count": 67,
   "metadata": {
    "hideCode": false,
    "hidePrompt": false
   },
   "outputs": [
    {
     "data": {
      "text/plain": [
       "(10519, 50)"
      ]
     },
     "execution_count": 67,
     "metadata": {},
     "output_type": "execute_result"
    }
   ],
   "source": [
    "W = model.word_emb.weight\n",
    "W = W.detach().numpy()\n",
    "W.shape"
   ]
  },
  {
   "cell_type": "code",
   "execution_count": 68,
   "metadata": {
    "hideCode": false,
    "hidePrompt": false
   },
   "outputs": [
    {
     "data": {
      "text/plain": [
       "True"
      ]
     },
     "execution_count": 68,
     "metadata": {},
     "output_type": "execute_result"
    }
   ],
   "source": [
    "t = AnnoyIndex(50, \"euclidean\")\n",
    "for i in range(W.shape[0]):\n",
    "    t.add_item(i, W[i])\n",
    "t.build(50) # 10 trees\n",
    "t.save('W.ann')"
   ]
  },
  {
   "cell_type": "code",
   "execution_count": 69,
   "metadata": {
    "hideCode": false,
    "hidePrompt": false
   },
   "outputs": [
    {
     "data": {
      "text/plain": [
       "[1, 3161, 2366, 3821]"
      ]
     },
     "execution_count": 69,
     "metadata": {},
     "output_type": "execute_result"
    }
   ],
   "source": [
    "t = AnnoyIndex(50, \"euclidean\")\n",
    "t.load('W.ann')\n",
    "t.get_nns_by_item(1, 4)"
   ]
  },
  {
   "cell_type": "code",
   "execution_count": 294,
   "metadata": {
    "hideCode": false,
    "hidePrompt": false
   },
   "outputs": [],
   "source": [
    "def gen_nns(w, t=t, k=5):\n",
    "    ind = vocab2idx[w]\n",
    "    return [words[x] for x in t.get_nns_by_item(ind, k)]"
   ]
  },
  {
   "cell_type": "markdown",
   "metadata": {},
   "source": [
    "Nearest neighbors to a chosen vector."
   ]
  },
  {
   "cell_type": "code",
   "execution_count": 295,
   "metadata": {
    "hideCode": false,
    "hidePrompt": false
   },
   "outputs": [
    {
     "data": {
      "text/plain": [
       "['tua', 'jake fromm', 'burrow', 'jordan love', 'manlet']"
      ]
     },
     "execution_count": 295,
     "metadata": {},
     "output_type": "execute_result"
    }
   ],
   "source": [
    "gen_nns(\"tua\")"
   ]
  },
  {
   "cell_type": "code",
   "execution_count": 296,
   "metadata": {},
   "outputs": [
    {
     "data": {
      "text/plain": [
       "['rodgers', 'aaron rodgers', 'brady', 'favre', 'mack']"
      ]
     },
     "execution_count": 296,
     "metadata": {},
     "output_type": "execute_result"
    }
   ],
   "source": [
    "gen_nns(\"rodgers\")"
   ]
  },
  {
   "cell_type": "code",
   "execution_count": 297,
   "metadata": {},
   "outputs": [
    {
     "data": {
      "text/plain": [
       "['aaron rodgers', 'aaron', 'jordan love', 'jerry jones', 'tee higgins']"
      ]
     },
     "execution_count": 297,
     "metadata": {},
     "output_type": "execute_result"
    }
   ],
   "source": [
    "gen_nns(\"aaron rodgers\")"
   ]
  },
  {
   "cell_type": "code",
   "execution_count": 298,
   "metadata": {},
   "outputs": [
    {
     "data": {
      "text/plain": [
       "['hurts', 'reagor', 'next year', 'obviously', 'kerryon']"
      ]
     },
     "execution_count": 298,
     "metadata": {},
     "output_type": "execute_result"
    }
   ],
   "source": [
    "gen_nns(\"hurts\")"
   ]
  },
  {
   "cell_type": "code",
   "execution_count": 299,
   "metadata": {},
   "outputs": [
    {
     "data": {
      "text/plain": [
       "['goodell', 'commish', 'bud light', 'gettleman', 'trey wingo']"
      ]
     },
     "execution_count": 299,
     "metadata": {},
     "output_type": "execute_result"
    }
   ],
   "source": [
    "gen_nns(\"goodell\")"
   ]
  },
  {
   "cell_type": "code",
   "execution_count": 300,
   "metadata": {},
   "outputs": [
    {
     "data": {
      "text/plain": [
       "['andy reid', 'jerry jones', 'dusted', 'mel kiper', 'rhule']"
      ]
     },
     "execution_count": 300,
     "metadata": {},
     "output_type": "execute_result"
    }
   ],
   "source": [
    "gen_nns(\"andy reid\")"
   ]
  },
  {
   "cell_type": "code",
   "execution_count": 306,
   "metadata": {},
   "outputs": [
    {
     "data": {
      "text/plain": [
       "606"
      ]
     },
     "execution_count": 306,
     "metadata": {},
     "output_type": "execute_result"
    }
   ],
   "source": [
    "new = set(vocab2idx.keys()) - set(word_vecs.keys())\n",
    "new_names = {item for item in new if item.count(' ') == 1}\n",
    "new_names = {name for name in new_names if 'year' not in name \n",
    "                                        and 'the' not in name\n",
    "                                        and 'day' not in name\n",
    "                                        and 'night' not in name\n",
    "                                        and 'minute' not in name\n",
    "                                        and 'hour' not in name\n",
    "                                        and 'season' not in name\n",
    "                                        and 'a ' not in name\n",
    "                                        and 'this' not in name\n",
    "                                        and 'feeding' not in name\n",
    "                                        and 'only one' not in name\n",
    "                                        and 'draft' not in name}\n",
    "len(new_names)"
   ]
  },
  {
   "cell_type": "code",
   "execution_count": 307,
   "metadata": {},
   "outputs": [],
   "source": [
    "name_cts = [(name, word_ct[name]) for name in new_names]\n",
    "names = sorted(name_cts, key=lambda x: x[1], reverse=True)[:50]\n",
    "top_names = [nm for (nm, ct) in names]"
   ]
  },
  {
   "cell_type": "code",
   "execution_count": 280,
   "metadata": {},
   "outputs": [
    {
     "data": {
      "text/plain": [
       "(10519, 2)"
      ]
     },
     "execution_count": 280,
     "metadata": {},
     "output_type": "execute_result"
    }
   ],
   "source": [
    "emb_2d = TSNE(n_components=2, perplexity=45).fit_transform(W)\n",
    "emb_2d.shape"
   ]
  },
  {
   "cell_type": "code",
   "execution_count": 308,
   "metadata": {
    "hideCode": false,
    "hidePrompt": false
   },
   "outputs": [],
   "source": [
    "idx = [vocab2idx[name] for name in top_names]"
   ]
  },
  {
   "cell_type": "code",
   "execution_count": 309,
   "metadata": {
    "hideCode": false,
    "hidePrompt": false
   },
   "outputs": [],
   "source": [
    "rev = {v:k for k,v in vocab2idx.items()}"
   ]
  },
  {
   "cell_type": "code",
   "execution_count": 310,
   "metadata": {
    "hideCode": false,
    "hidePrompt": false
   },
   "outputs": [
    {
     "data": {
      "image/png": "[encoded data removed]",
      "text/plain": [
       "<Figure size 1440x1440 with 1 Axes>"
      ]
     },
     "metadata": {
      "needs_background": "light"
     },
     "output_type": "display_data"
    }
   ],
   "source": [
    "plt.figure(figsize=(20,20))\n",
    "plt.scatter(emb_2d[idx,0], emb_2d[idx,1])\n",
    "\n",
    "for i in idx:\n",
    "    plt.annotate(rev[i], (emb_2d[i,0], emb_2d[i,1]))\n",
    "    \n",
    "plt.show()"
   ]
  },
  {
   "cell_type": "markdown",
   "metadata": {},
   "source": [
    "#### Interesting Findings?\n",
    "\n",
    "I plotted the top 50 most common 'new' words (not in GloVe) above.. Overall, there is not any clear pattern to the embeddings, but there are some interesting snippets that I will highlight. \n",
    "\n",
    "1. The clump of jerry jones, andy reid, mike mccarthy and mel kiper at (10, -10). The first 3 names are coaches of NFL teams and mel kiper is one of the prominent NFL draft analysts. The model clearly found that these names were used in similar context, and in a different context than draftees and current NFL players.\n",
    "\n",
    "2. The clump of current and drafted NFL quarterbacks at (0, -20). This includes Russell Wilson, Aaron Rodgers, Joe Burrow, Jake Fromm and Lamar Jackson. Other quaterbacks are in the plot as well, but the model grouped these are similar. Aaron Rodgers is also right next to his starting running back, Aaron Jones.\n",
    "\n",
    "3. Jalen Hurts and Taysom Hill are stacked together at (0, -15). Jalen Hurts in a dual-threat QB drafted to a team (Eagles) with an already established starting quarterback. Taysom Hill is a dual-threat QB already playing for a team (Saints) with an already established starting quarterback...\n",
    "\n",
    "4. Things un-related, 'more than', 'jesus christ', 'penn state', are not near any NFL players. "
   ]
  }
 ],
 "metadata": {
  "hide_code_all_hidden": false,
  "kernelspec": {
   "display_name": "Python 3",
   "language": "python",
   "name": "python3"
  },
  "language_info": {
   "codemirror_mode": {
    "name": "ipython",
    "version": 3
   },
   "file_extension": ".py",
   "mimetype": "text/x-python",
   "name": "python",
   "nbconvert_exporter": "python",
   "pygments_lexer": "ipython3",
   "version": "3.7.3"
  }
 },
 "nbformat": 4,
 "nbformat_minor": 2
}
